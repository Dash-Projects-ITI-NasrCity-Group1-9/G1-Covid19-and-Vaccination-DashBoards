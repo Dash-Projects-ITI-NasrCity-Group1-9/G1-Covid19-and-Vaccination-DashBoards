{
 "cells": [
  {
   "cell_type": "code",
   "execution_count": 1,
   "metadata": {},
   "outputs": [],
   "source": [
    "import pandas as pd\n",
    "import numpy as np\n",
    "import plotly.express as px\n",
    "import dash\n",
    "from dash import html, dcc\n",
    "from dash.dependencies import Input, Output\n",
    "import plotly.graph_objs as go\n",
    "import plotly.figure_factory as ff\n",
    "import base64"
   ]
  },
  {
   "cell_type": "code",
   "execution_count": 2,
   "metadata": {},
   "outputs": [],
   "source": [
    "df = pd.read_csv('country_vaccinations.csv')\n",
    "df['date'] = pd.to_datetime(df['date'])\n",
    "df['year'] = pd.DatetimeIndex(df['date']).year\n",
    "df['month'] = pd.DatetimeIndex(df['date']).month\n",
    "df[\"people_vaccinated\"]= df.groupby(\"country\").total_vaccinations.tail(1)\n",
    "top_country=df.groupby(\"country\")[\"people_vaccinated\"].mean().sort_values(ascending= False).head(10).reset_index()\n",
    "ratio=df.groupby('country')['total_vaccinations_per_hundred'].max().sort_values(ascending=False).head(10).reset_index()\n",
    "\n"
   ]
  },
  {
   "cell_type": "code",
   "execution_count": 3,
   "metadata": {},
   "outputs": [],
   "source": [
    "app=dash.Dash()\n",
    "\n",
    "app.layout=html.Div([\n",
    "    html.Div([\n",
    "        html.H1(\"The Vaccination Against Pandemic\",\n",
    "        style={ \n",
    "        'color':'white',\n",
    "        'vertical-align':'middle',\n",
    "\n",
    "        'text-align': 'center',\n",
    "        'vertical-align': 'middle',\n",
    "        'line-height': '80px',\n",
    "        'height': 'auto',\n",
    "        })\n",
    "    ], style={\n",
    "        'text-align': 'center',\n",
    "        'vertical-align': 'top',\n",
    "        'background-color': \"#1c113d\", 'height': '90px',}),\n",
    "    # html.Img(\n",
    "    #     src=app.get_asset_url(\"img.jpeg\"), style={\"float\": \"left\", \"height\": 90}\n",
    "    # ),\n",
    "    html.Div([\n",
    "        dcc.Graph(id='id1'),\n",
    "        dcc.Graph(id='id2'),\n",
    "    ], style={\"display\": \"grid\", \"grid-template-columns\": \"50% 50%\"}),\n",
    "\n",
    "    dcc.Slider(\n",
    "            id = \"slider_1\",\n",
    "            updatemode = \"drag\",\n",
    "            marks = {i: \"{}\".format(i) for i in range(1,13)},\n",
    "            min = 1,\n",
    "            max = 12,\n",
    "            step = 1,\n",
    "            value = 5),\n",
    "\n",
    "    html.Br(),\n",
    "    html.Br(),\n",
    "    html.Div([\n",
    "        dcc.Dropdown(\n",
    "        id='dropdown',\n",
    "         options=[\n",
    "            {'label': str(c), 'value': str(c)} for c in df['country'].unique()\n",
    "        ],\n",
    "        value='China',\n",
    "\n",
    "    )\n",
    "    ], style={\"width\": \"30%\"},)\n",
    "    ,\n",
    "   dcc.Graph(id='line'),\n",
    "])\n"
   ]
  },
  {
   "cell_type": "code",
   "execution_count": 4,
   "metadata": {},
   "outputs": [],
   "source": [
    "@app.callback(\n",
    "    Output(component_id='line',component_property='figure'),\n",
    "    Input(component_id='dropdown',component_property='value'),)\n",
    "def update_my_graph(dropdownvalue):\n",
    "    fig=px.line(\n",
    "        df[df['country']==dropdownvalue], x=\"date\", y=\"daily_vaccinations\", \n",
    "        title='Trend in Daily Vaccinations Number')\n",
    "    fig.update_layout(title=dict(font={'size': 25}, x=0.5, xanchor='center'))\n",
    "    return fig\n",
    "\n",
    "@app.callback(\n",
    "    [\n",
    "        Output(component_id='id1',component_property='figure'),\n",
    "        Output(component_id='id2',component_property='figure')\n",
    "    ],\n",
    "    Input(component_id='slider_1',component_property='value'),)\n",
    "def update_my_graph1(month):\n",
    "\n",
    "    df1 = df[(df.month<=month) | (df.year==2020)]\n",
    "    top_country=df1.groupby(\"country\")[\"people_vaccinated\"].mean().sort_values(ascending= False).head(10).reset_index()\n",
    "    ratio=df1.groupby('country')['total_vaccinations_per_hundred'].max().sort_values(ascending=False).head(10).reset_index()\n",
    "\n",
    "    fig1 = px.bar(\n",
    "    top_country,\n",
    "    x='country', y='people_vaccinated', \n",
    "    title='Total Vaccination Among Countries',\n",
    "    color='country',\n",
    "    )\n",
    "    fig1.update_layout(\n",
    "        title=dict(font={'size': 25}, x=0.5, xanchor='center', ),\n",
    "        )\n",
    "\n",
    "    fig2 = px.bar(ratio,\n",
    "        color='country',\n",
    "        y=\"country\", x=\"total_vaccinations_per_hundred\", \n",
    "        orientation=\"h\", hover_name=\"country\",title='Total Vaccinations / Population')\n",
    "    fig2.update_layout(\n",
    "        title=dict(font={'size': 25}, \n",
    "        x=0.5, xanchor='center',),\n",
    "        )\n",
    "    return fig1,fig2\n",
    "        "
   ]
  },
  {
   "cell_type": "code",
   "execution_count": null,
   "metadata": {},
   "outputs": [
    {
     "name": "stdout",
     "output_type": "stream",
     "text": [
      "Dash is running on http://127.0.0.1:5552/\n",
      "\n",
      " * Serving Flask app \"__main__\" (lazy loading)\n",
      " * Environment: production\n",
      "   WARNING: This is a development server. Do not use it in a production deployment.\n",
      "   Use a production WSGI server instead.\n",
      " * Debug mode: off\n"
     ]
    },
    {
     "name": "stderr",
     "output_type": "stream",
     "text": [
      " * Running on http://127.0.0.1:5552/ (Press CTRL+C to quit)\n"
     ]
    }
   ],
   "source": [
    "app.run_server(port='5552')"
   ]
  },
  {
   "cell_type": "code",
   "execution_count": null,
   "metadata": {},
   "outputs": [],
   "source": []
  }
 ],
 "metadata": {
  "kernelspec": {
   "display_name": "Python 3",
   "language": "python",
   "name": "python3"
  },
  "language_info": {
   "codemirror_mode": {
    "name": "ipython",
    "version": 3
   },
   "file_extension": ".py",
   "mimetype": "text/x-python",
   "name": "python",
   "nbconvert_exporter": "python",
   "pygments_lexer": "ipython3",
   "version": "3.7.4"
  }
 },
 "nbformat": 4,
 "nbformat_minor": 5
}
